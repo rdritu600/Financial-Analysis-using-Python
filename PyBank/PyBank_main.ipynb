{
 "cells": [
  {
   "cell_type": "code",
   "execution_count": 79,
   "id": "d8349a37-498e-4e1d-ba88-8c51b3f9384f",
   "metadata": {},
   "outputs": [],
   "source": [
    "# Importing CSV file and From the pathlib library, importing the main class Path\n",
    "import csv\n",
    "from pathlib import Path\n",
    "import os\n",
    "filepath = os.path.join(\"budget_data.csv\")"
   ]
  },
  {
   "cell_type": "code",
   "execution_count": 80,
   "id": "6fcf36d3-a53a-400d-89c1-7bc68d89277c",
   "metadata": {},
   "outputs": [],
   "source": [
    "# Initialize variables\n",
    "total_months = 0\n",
    "net_pnl = 0\n",
    "pnl_changes_list = []\n",
    "greatest_increase = [\"\", 0]\n",
    "greatest_decrease = [\"\",0]"
   ]
  },
  {
   "cell_type": "code",
   "execution_count": 81,
   "id": "a8ba005a-a59d-4c33-b02e-f391a9950337",
   "metadata": {},
   "outputs": [
    {
     "name": "stdout",
     "output_type": "stream",
     "text": [
      "Total months: 86\n",
      "Total: 38382578\n",
      "-2315.12\n",
      "['Feb-12', 1926159]\n",
      "['Sep-13', -2196167]\n"
     ]
    }
   ],
   "source": [
    " #Logic and Codes\n",
    "with open(filepath, 'r') as file:\n",
    "    reader = csv.reader(file)\n",
    "    next(reader)\n",
    "    first_row = next(reader)\n",
    "    total_months = total_months + 1\n",
    "    net_pnl = net_pnl + int(first_row[1])\n",
    "    previous_pnl = net_pnl\n",
    "    for row in reader:\n",
    "        total_months = total_months + 1\n",
    "        net_pnl = net_pnl + int(row[1])\n",
    "        net_pnl_change = int(row[1]) - previous_pnl\n",
    "        pnl_changes_list.append(net_pnl_change)\n",
    "        previous_pnl = int(row[1])\n",
    "        \n",
    "        if net_pnl_change > greatest_increase[1]:\n",
    "            greatest_increase[0] = row[0]\n",
    "            greatest_increase[1] = net_pnl_change\n",
    "            \n",
    "        if net_pnl_change < greatest_decrease[1]:\n",
    "            greatest_decrease[0] = row[0]\n",
    "            greatest_decrease[1] = net_pnl_change\n",
    "            \n",
    "#Display results:            \n",
    "            \n",
    "print(\"Total months: \" + str(total_months))\n",
    "print(\"Total: \" + str(net_pnl))\n",
    "print(round(sum(pnl_changes_list)/len(pnl_changes_list),2))\n",
    "print(greatest_increase)\n",
    "print(greatest_decrease)"
   ]
  },
  {
   "cell_type": "code",
   "execution_count": 149,
   "id": "268104bb-e61c-4208-a592-ea080889b126",
   "metadata": {},
   "outputs": [],
   "source": [
    "output_path = Path('Financial_Summary.txt')\n",
    "\n",
    "with open(output_path, 'w') as file:\n",
    "    file.write(f\"Financial Analysis\\n----------------------------------\\n\")\n",
    "    file.write(f\"\\n Total months: \" + str(total_months))\n",
    "    file.write(f\"\\n Total: ${net_pnl}\\n\")\n",
    "    file.write(f\"\\n Average  Change: \" +str(round(sum(pnl_changes_list)/len(pnl_changes_list),2)))\n",
    "    file.write(f\"\\n Greatest Increase in Profits:  ${greatest_increase}\\n\")\n",
    "    file.write(f\"\\n Greatest Decrease in Profits:  ${greatest_decrease}\\n\")\n",
    "    \n",
    "    file.close()"
   ]
  },
  {
   "cell_type": "code",
   "execution_count": null,
   "id": "9df1d3b7-c23e-4030-be8c-badf1cd775df",
   "metadata": {},
   "outputs": [],
   "source": []
  },
  {
   "cell_type": "code",
   "execution_count": null,
   "id": "ef97e633-9118-4e25-a43f-ac2829eed4b5",
   "metadata": {},
   "outputs": [],
   "source": []
  }
 ],
 "metadata": {
  "kernelspec": {
   "display_name": "Python 3 (ipykernel)",
   "language": "python",
   "name": "python3"
  },
  "language_info": {
   "codemirror_mode": {
    "name": "ipython",
    "version": 3
   },
   "file_extension": ".py",
   "mimetype": "text/x-python",
   "name": "python",
   "nbconvert_exporter": "python",
   "pygments_lexer": "ipython3",
   "version": "3.9.13"
  }
 },
 "nbformat": 4,
 "nbformat_minor": 5
}
